{
 "cells": [
  {
   "cell_type": "markdown",
   "metadata": {},
   "source": [
    "# Submit Spark App\n",
    "\n",
    "PythonコードをIBM Analytics Engine SparkにSubmitするコードです"
   ]
  },
  {
   "cell_type": "markdown",
   "metadata": {},
   "source": [
    "ibm_cloud_sdk_coreが導入されてない場合は以下を実行して導入してください"
   ]
  },
  {
   "cell_type": "code",
   "execution_count": null,
   "metadata": {},
   "outputs": [],
   "source": [
    "!pip install --upgrade ibm-cloud-sdk-core"
   ]
  },
  {
   "cell_type": "markdown",
   "metadata": {},
   "source": [
    "## 1. 以下必要な情報をセットします\n",
    "\n",
    "- API_KEY: IBM Analytics Engine にアクセス可能なAPIKEY\n",
    "- APP_BUCKET: Spark実行ソースを置いたオブジェクトストレージのバケット名\n",
    "- APP_BUCKET_ENDPOINT: Spark実行ソースを置いたオブジェクトストレージのENDPOINT\n",
    "- APP_BUCKET_ACCESS_KEY: Spark実行ソースを置いたオブジェクトストレージのACCESS KEY\n",
    "- APP_BUCKET_SECRET_KEY: Spark実行ソースを置いたオブジェクトストレージのSECRET KEY\n",
    "- IAE_REGION: 使用するIBM Analytics Engine のリージョン名\n",
    "- IAE_INCETANCE_GUID=: 使用するIBM Analytics Engine のInstance ID\n",
    "- PY_FILE: Spark実行ソースのファイル名(ルート以外においた場合はパスもつける)"
   ]
  },
  {
   "cell_type": "code",
   "execution_count": null,
   "metadata": {},
   "outputs": [],
   "source": [
    "# 自分の環境に合わせて以下を変更する\n",
    "API_KEY=\"xxxxxxxxxxxxx\"\n",
    "APP_BUCKET=\"spark-source\"\n",
    "APP_BUCKET_ENDPOINT=\"s3.direct.us-south.cloud-object-storage.appdomain.cloud\"\n",
    "APP_BUCKET_ACCESS_KEY = \"xxxxxxxxxx\"\n",
    "APP_BUCKET_SECRET_KEY = \"xxxxxxxxxxxxxxxxx\"\n",
    "IAE_REGION=\"us-south\"\n",
    "IAE_INCETANCE_GUID=\"xxxxxxxxxxxxxxxxxx\"\n",
    "PY_FILE=\"lakehouse-spark-sample.py\""
   ]
  },
  {
   "cell_type": "markdown",
   "metadata": {},
   "source": [
    "## 2. IAM トークンを生成"
   ]
  },
  {
   "cell_type": "code",
   "execution_count": null,
   "metadata": {},
   "outputs": [],
   "source": [
    "from ibm_cloud_sdk_core.authenticators import IAMAuthenticator\n",
    "\n",
    "authenticator = IAMAuthenticator(API_KEY)\n",
    "access_token=authenticator.token_manager.get_token()\n",
    "print(access_token)"
   ]
  },
  {
   "cell_type": "markdown",
   "metadata": {},
   "source": [
    "## 3. PythonコードをIBM Analytics Engine SparkにSubmit"
   ]
  },
  {
   "cell_type": "code",
   "execution_count": null,
   "metadata": {},
   "outputs": [],
   "source": [
    "# Submit the Spark application:\n",
    "\n",
    "import requests\n",
    "import json\n",
    "import datetime\n",
    "\n",
    "# REST API のURL 作成\n",
    "url=f\"https://api.{IAE_REGION}.ae.cloud.ibm.com/v3/analytics_engines/{IAE_INCETANCE_GUID}/spark_applications\"\n",
    "\n",
    "# request header作成\n",
    "headers = {}\n",
    "headers ['Authorization'] =  'Bearer ' + access_token #アクセストークンをHeaderにセット\n",
    "\n",
    "conf={}\n",
    "conf[f'spark.hadoop.fs.s3a.bucket.{APP_BUCKET}.endpoint']=APP_BUCKET_ENDPOINT\n",
    "conf[f'spark.hadoop.fs.s3a.bucket.{APP_BUCKET}.access.key']=APP_BUCKET_ACCESS_KEY\n",
    "conf[f'spark.hadoop.fs.s3a.bucket.{APP_BUCKET}.secret.key']=APP_BUCKET_SECRET_KEY \n",
    "\n",
    "application_details={}\n",
    "application_details['application']=f\"s3a://{APP_BUCKET}/{PY_FILE}\"\n",
    "application_details['conf']=conf\n",
    "\n",
    "params = {}\n",
    "params['application_details'] = application_details\n",
    "\n",
    "try:\n",
    "    r = requests.post(url, headers=headers, json=params)\n",
    "    print( r.status_code)\n",
    "except Exception as err:\n",
    "    print(\"RESTful call failed. Detailed information follows.\")\n",
    "    print(err)\n",
    "\n",
    "\n",
    "# Check for Invalid credentials\n",
    "if (r.status_code == 401): # There was an error with the authentication\n",
    "    print(\"RESTful called failed.\")\n",
    "    message = r.json()['errors']\n",
    "    print(message)\n",
    "\n",
    "print(datetime.datetime.now())    \n",
    "print(json.dumps(r.json(), indent=4))"
   ]
  }
 ],
 "metadata": {
  "kernelspec": {
   "display_name": ".venv",
   "language": "python",
   "name": "python3"
  },
  "language_info": {
   "codemirror_mode": {
    "name": "ipython",
    "version": 3
   },
   "file_extension": ".py",
   "mimetype": "text/x-python",
   "name": "python",
   "nbconvert_exporter": "python",
   "pygments_lexer": "ipython3",
   "version": "3.11.4"
  }
 },
 "nbformat": 4,
 "nbformat_minor": 2
}
